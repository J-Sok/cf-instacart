{
 "cells": [
  {
   "cell_type": "markdown",
   "id": "504e0b2e",
   "metadata": {},
   "source": [
    "# 4.2 Importing Libraries and Python Data Types\n",
    "### Content List:\n",
    "#### -- Importing Libraries\n",
    "#### -- Data Types"
   ]
  },
  {
   "cell_type": "markdown",
   "id": "407bdb88",
   "metadata": {},
   "source": [
    "## 1. Importing Libraries"
   ]
  },
  {
   "cell_type": "code",
   "execution_count": 1,
   "id": "4d317644",
   "metadata": {},
   "outputs": [],
   "source": [
    "#Import libraries\n",
    "import pandas as pd\n",
    "import numpy as np\n",
    "import os"
   ]
  },
  {
   "cell_type": "markdown",
   "id": "8ca86c8f",
   "metadata": {},
   "source": [
    "## 2. Data Types"
   ]
  },
  {
   "cell_type": "code",
   "execution_count": 2,
   "id": "1bf4ce14",
   "metadata": {},
   "outputs": [
    {
     "name": "stdout",
     "output_type": "stream",
     "text": [
      "100\n",
      "100\n",
      "100\n"
     ]
    }
   ],
   "source": [
    "# Code 3 different ways of reaching a result of 100 by adding or subtracting numeric variables.\n",
    "x = 97 \n",
    "y = 3\n",
    "print (x + y) # printing first result\n",
    "\n",
    "x -= 7\n",
    "y += 7\n",
    "print(x + y) # printing second result\n",
    "\n",
    "x = 150\n",
    "y = 50\n",
    "print(x - y) # and printing third result"
   ]
  },
  {
   "cell_type": "code",
   "execution_count": 3,
   "id": "effc4206",
   "metadata": {},
   "outputs": [
    {
     "name": "stdout",
     "output_type": "stream",
     "text": [
      "16.905444444444445\n",
      "<class 'float'>\n"
     ]
    }
   ],
   "source": [
    "# Code 2 floating-point variables and divide them by each other.\n",
    "a = 30.4298\n",
    "b = 1.8\n",
    "\n",
    "print(a / b)\n",
    "print(type(a/b)) # display the type of a÷b"
   ]
  },
  {
   "cell_type": "code",
   "execution_count": 4,
   "id": "a274bef8",
   "metadata": {},
   "outputs": [
    {
     "data": {
      "text/plain": [
       "'string'"
      ]
     },
     "execution_count": 4,
     "metadata": {},
     "output_type": "execute_result"
    }
   ],
   "source": [
    "# Construct a short word made of separate strings (you’ll need to concatenate some strings!).\n",
    "f = 'str'\n",
    "m = 'ing'\n",
    "\n",
    "f + m # concatenate two strings"
   ]
  },
  {
   "cell_type": "code",
   "execution_count": 5,
   "id": "66dc1f1a",
   "metadata": {},
   "outputs": [
    {
     "data": {
      "text/plain": [
       "'There once was a man from Peru, who dreamt he was eating his shoe. He woke up with a fright in the middle of the night to find that his dream had come true.'"
      ]
     },
     "execution_count": 5,
     "metadata": {},
     "output_type": "execute_result"
    }
   ],
   "source": [
    "# Construct 2 short sentences made of separate strings.\n",
    "w = 'There once was a man from Peru, who dreamt he was eating his shoe. '\n",
    "k = 'He woke up with a fright in the middle of the night to find that his dream had come true.'\n",
    "\n",
    "w + k"
   ]
  }
 ],
 "metadata": {
  "kernelspec": {
   "display_name": "Python 3 (ipykernel)",
   "language": "python",
   "name": "python3"
  },
  "language_info": {
   "codemirror_mode": {
    "name": "ipython",
    "version": 3
   },
   "file_extension": ".py",
   "mimetype": "text/x-python",
   "name": "python",
   "nbconvert_exporter": "python",
   "pygments_lexer": "ipython3",
   "version": "3.10.9"
  }
 },
 "nbformat": 4,
 "nbformat_minor": 5
}
